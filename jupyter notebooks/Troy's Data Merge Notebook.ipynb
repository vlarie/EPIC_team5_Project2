{
 "cells": [
  {
   "cell_type": "code",
   "execution_count": 45,
   "metadata": {},
   "outputs": [],
   "source": [
    "# Confirmed needed dependencies\n",
    "import pprint\n",
    "import pandas as pd\n"
   ]
  },
  {
   "cell_type": "code",
   "execution_count": 57,
   "metadata": {},
   "outputs": [],
   "source": [
    "#  import old master data\n",
    "\n",
    "fileImport = pd.read_csv('../data/Archived/masterDataCLEAN.csv')\n",
    "p1MasterDF = pd.DataFrame(fileImport)"
   ]
  },
  {
   "cell_type": "code",
   "execution_count": 58,
   "metadata": {},
   "outputs": [],
   "source": [
    "# import new master data\n",
    "\n",
    "fileImport = pd.read_csv('../data/zillowClean.csv')\n",
    "p2MasterDF = pd.DataFrame(fileImport)"
   ]
  },
  {
   "cell_type": "code",
   "execution_count": 59,
   "metadata": {},
   "outputs": [],
   "source": [
    "newWithCommute = pd.merge(p2MasterDF,p1MasterDF[['address','commuteTime']],on='address', how='left')"
   ]
  },
  {
   "cell_type": "code",
   "execution_count": 60,
   "metadata": {},
   "outputs": [],
   "source": [
    "newWithCommute = newWithCommute.dropna(subset=['commuteTime'])"
   ]
  },
  {
   "cell_type": "code",
   "execution_count": 61,
   "metadata": {},
   "outputs": [
    {
     "name": "stdout",
     "output_type": "stream",
     "text": [
      "8530\n",
      "8591\n",
      "8497\n"
     ]
    }
   ],
   "source": [
    "print(len(p1MasterDF))\n",
    "print(len(p2MasterDF))\n",
    "print(len(newWithCommute))"
   ]
  },
  {
   "cell_type": "code",
   "execution_count": null,
   "metadata": {},
   "outputs": [],
   "source": []
  }
 ],
 "metadata": {
  "kernelspec": {
   "display_name": "Python 3",
   "language": "python",
   "name": "python3"
  },
  "language_info": {
   "codemirror_mode": {
    "name": "ipython",
    "version": 3
   },
   "file_extension": ".py",
   "mimetype": "text/x-python",
   "name": "python",
   "nbconvert_exporter": "python",
   "pygments_lexer": "ipython3",
   "version": "3.6.6"
  }
 },
 "nbformat": 4,
 "nbformat_minor": 2
}
