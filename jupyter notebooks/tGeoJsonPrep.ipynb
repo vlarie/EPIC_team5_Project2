{
 "cells": [
  {
   "cell_type": "code",
   "execution_count": 65,
   "metadata": {},
   "outputs": [],
   "source": [
    "import geopandas as gpd\n",
    "import pandas as pd"
   ]
  },
  {
   "cell_type": "code",
   "execution_count": 66,
   "metadata": {},
   "outputs": [],
   "source": [
    "df = gpd.read_file('../data/Zipcodes.geojson')"
   ]
  },
  {
   "cell_type": "code",
   "execution_count": 75,
   "metadata": {},
   "outputs": [
    {
     "data": {
      "text/html": [
       "<div>\n",
       "<style scoped>\n",
       "    .dataframe tbody tr th:only-of-type {\n",
       "        vertical-align: middle;\n",
       "    }\n",
       "\n",
       "    .dataframe tbody tr th {\n",
       "        vertical-align: top;\n",
       "    }\n",
       "\n",
       "    .dataframe thead th {\n",
       "        text-align: right;\n",
       "    }\n",
       "</style>\n",
       "<table border=\"1\" class=\"dataframe\">\n",
       "  <thead>\n",
       "    <tr style=\"text-align: right;\">\n",
       "      <th></th>\n",
       "      <th>Name</th>\n",
       "      <th>description</th>\n",
       "      <th>number_of_records</th>\n",
       "      <th>objectid</th>\n",
       "      <th>zipcode</th>\n",
       "      <th>zipcodes_id</th>\n",
       "      <th>geometry</th>\n",
       "    </tr>\n",
       "  </thead>\n",
       "  <tbody>\n",
       "    <tr>\n",
       "      <th>0</th>\n",
       "      <td>AUSTIN</td>\n",
       "      <td>None</td>\n",
       "      <td>45</td>\n",
       "      <td>51</td>\n",
       "      <td>78702</td>\n",
       "      <td>45</td>\n",
       "      <td>(POLYGON ((-97.69186838400699 30.248482149129,...</td>\n",
       "    </tr>\n",
       "    <tr>\n",
       "      <th>1</th>\n",
       "      <td>LIBERTY HILL</td>\n",
       "      <td>None</td>\n",
       "      <td></td>\n",
       "      <td>26</td>\n",
       "      <td>78642</td>\n",
       "      <td>20</td>\n",
       "      <td>(POLYGON ((-97.89359001287301 30.782117310707,...</td>\n",
       "    </tr>\n",
       "    <tr>\n",
       "      <th>2</th>\n",
       "      <td>AUSTIN</td>\n",
       "      <td>None</td>\n",
       "      <td>30</td>\n",
       "      <td>11</td>\n",
       "      <td>78752</td>\n",
       "      <td>5</td>\n",
       "      <td>(POLYGON ((-97.686347884619 30.332598550963, -...</td>\n",
       "    </tr>\n",
       "    <tr>\n",
       "      <th>3</th>\n",
       "      <td>AUSTIN</td>\n",
       "      <td>None</td>\n",
       "      <td>25</td>\n",
       "      <td>32</td>\n",
       "      <td>78747</td>\n",
       "      <td>26</td>\n",
       "      <td>(POLYGON ((-97.73618056605601 30.159870363356,...</td>\n",
       "    </tr>\n",
       "    <tr>\n",
       "      <th>4</th>\n",
       "      <td>MANOR</td>\n",
       "      <td>None</td>\n",
       "      <td>2</td>\n",
       "      <td>29</td>\n",
       "      <td>78653</td>\n",
       "      <td>23</td>\n",
       "      <td>(POLYGON ((-97.501494615524 30.477330039287, -...</td>\n",
       "    </tr>\n",
       "  </tbody>\n",
       "</table>\n",
       "</div>"
      ],
      "text/plain": [
       "           Name description number_of_records objectid zipcode zipcodes_id  \\\n",
       "0        AUSTIN        None                45       51   78702          45   \n",
       "1  LIBERTY HILL        None                         26   78642          20   \n",
       "2        AUSTIN        None                30       11   78752           5   \n",
       "3        AUSTIN        None                25       32   78747          26   \n",
       "4         MANOR        None                 2       29   78653          23   \n",
       "\n",
       "                                            geometry  \n",
       "0  (POLYGON ((-97.69186838400699 30.248482149129,...  \n",
       "1  (POLYGON ((-97.89359001287301 30.782117310707,...  \n",
       "2  (POLYGON ((-97.686347884619 30.332598550963, -...  \n",
       "3  (POLYGON ((-97.73618056605601 30.159870363356,...  \n",
       "4  (POLYGON ((-97.501494615524 30.477330039287, -...  "
      ]
     },
     "execution_count": 75,
     "metadata": {},
     "output_type": "execute_result"
    }
   ],
   "source": [
    "df.head()\n"
   ]
  },
  {
   "cell_type": "code",
   "execution_count": 76,
   "metadata": {},
   "outputs": [
    {
     "data": {
      "text/plain": [
       "80"
      ]
     },
     "execution_count": 76,
     "metadata": {},
     "output_type": "execute_result"
    }
   ],
   "source": [
    "len(df)"
   ]
  },
  {
   "cell_type": "code",
   "execution_count": 78,
   "metadata": {},
   "outputs": [
    {
     "data": {
      "text/plain": [
       "24"
      ]
     },
     "execution_count": 78,
     "metadata": {},
     "output_type": "execute_result"
    }
   ],
   "source": [
    "zipsToDrop = [78628, 78626, 78634, 78640, 78611, 78605, 78654, 78642, 76530, 76574, 78615, 78621, 78602, 78612, 78662, 78616, 78644, 78655, 78656, 78666, 78676, 78636, 78663, 78654]\n",
    "# for zip in zipsToDrop:\n",
    "#         print(zip);\n",
    "len(zipsToDrop)"
   ]
  },
  {
   "cell_type": "code",
   "execution_count": 71,
   "metadata": {},
   "outputs": [
    {
     "name": "stdout",
     "output_type": "stream",
     "text": [
      "0\n",
      "78642 78642\n",
      "2\n",
      "3\n",
      "4\n",
      "5\n",
      "6\n",
      "7\n",
      "78621 78621\n",
      "9\n",
      "10\n",
      "78662 78662\n",
      "12\n",
      "13\n",
      "14\n",
      "15\n",
      "76574 76574\n",
      "17\n",
      "78676 78676\n",
      "19\n",
      "20\n",
      "21\n",
      "22\n",
      "23\n",
      "24\n",
      "78626 78626\n",
      "26\n",
      "27\n",
      "28\n",
      "78612 78612\n",
      "78634 78634\n",
      "31\n",
      "32\n",
      "78663 78663\n",
      "78666 78666\n",
      "35\n",
      "78654 78654\n",
      "78654 78654\n",
      "78628 78628\n",
      "38\n",
      "39\n",
      "78656 78656\n",
      "41\n",
      "42\n",
      "43\n",
      "44\n",
      "45\n",
      "46\n",
      "47\n",
      "48\n",
      "49\n",
      "78615 78615\n",
      "78616 78616\n",
      "52\n",
      "53\n",
      "54\n",
      "78602 78602\n",
      "56\n",
      "57\n",
      "78655 78655\n",
      "59\n",
      "60\n",
      "61\n",
      "62\n",
      "78644 78644\n",
      "64\n",
      "65\n",
      "66\n",
      "67\n",
      "68\n",
      "76530 76530\n",
      "78640 78640\n",
      "78636 78636\n",
      "72\n",
      "73\n",
      "74\n",
      "78611 78611\n",
      "76\n",
      "77\n",
      "78\n",
      "78605 78605\n"
     ]
    },
    {
     "data": {
      "text/plain": [
       "57"
      ]
     },
     "execution_count": 71,
     "metadata": {},
     "output_type": "execute_result"
    }
   ],
   "source": [
    "newDF = gpd.GeoDataFrame()\n",
    "\n",
    "for index, row in df.iterrows():\n",
    "    keep = True\n",
    "    for zip in zipsToDrop:\n",
    "        if int(row['zipcode']) == zip:\n",
    "            print(row['zipcode'] + \" \" + str(zip))\n",
    "            keep = False\n",
    "    if keep:\n",
    "        newDF = newDF.append(df.iloc[index])\n",
    "        print(index)\n",
    "len(newDF)"
   ]
  },
  {
   "cell_type": "code",
   "execution_count": 79,
   "metadata": {},
   "outputs": [
    {
     "data": {
      "text/html": [
       "<div>\n",
       "<style scoped>\n",
       "    .dataframe tbody tr th:only-of-type {\n",
       "        vertical-align: middle;\n",
       "    }\n",
       "\n",
       "    .dataframe tbody tr th {\n",
       "        vertical-align: top;\n",
       "    }\n",
       "\n",
       "    .dataframe thead th {\n",
       "        text-align: right;\n",
       "    }\n",
       "</style>\n",
       "<table border=\"1\" class=\"dataframe\">\n",
       "  <thead>\n",
       "    <tr style=\"text-align: right;\">\n",
       "      <th></th>\n",
       "      <th>Name</th>\n",
       "      <th>description</th>\n",
       "      <th>geometry</th>\n",
       "      <th>number_of_records</th>\n",
       "      <th>objectid</th>\n",
       "      <th>zipcode</th>\n",
       "      <th>zipcodes_id</th>\n",
       "    </tr>\n",
       "  </thead>\n",
       "  <tbody>\n",
       "    <tr>\n",
       "      <th>0</th>\n",
       "      <td>AUSTIN</td>\n",
       "      <td>None</td>\n",
       "      <td>(POLYGON ((-97.69186838400699 30.248482149129,...</td>\n",
       "      <td>45</td>\n",
       "      <td>51</td>\n",
       "      <td>78702</td>\n",
       "      <td>45</td>\n",
       "    </tr>\n",
       "    <tr>\n",
       "      <th>2</th>\n",
       "      <td>AUSTIN</td>\n",
       "      <td>None</td>\n",
       "      <td>(POLYGON ((-97.686347884619 30.332598550963, -...</td>\n",
       "      <td>30</td>\n",
       "      <td>11</td>\n",
       "      <td>78752</td>\n",
       "      <td>5</td>\n",
       "    </tr>\n",
       "    <tr>\n",
       "      <th>3</th>\n",
       "      <td>AUSTIN</td>\n",
       "      <td>None</td>\n",
       "      <td>(POLYGON ((-97.73618056605601 30.159870363356,...</td>\n",
       "      <td>25</td>\n",
       "      <td>32</td>\n",
       "      <td>78747</td>\n",
       "      <td>26</td>\n",
       "    </tr>\n",
       "    <tr>\n",
       "      <th>4</th>\n",
       "      <td>MANOR</td>\n",
       "      <td>None</td>\n",
       "      <td>(POLYGON ((-97.501494615524 30.477330039287, -...</td>\n",
       "      <td>2</td>\n",
       "      <td>29</td>\n",
       "      <td>78653</td>\n",
       "      <td>23</td>\n",
       "    </tr>\n",
       "    <tr>\n",
       "      <th>5</th>\n",
       "      <td>AUSTIN</td>\n",
       "      <td>None</td>\n",
       "      <td>(POLYGON ((-97.84398150237401 30.393578155125,...</td>\n",
       "      <td>2</td>\n",
       "      <td>52</td>\n",
       "      <td>78730</td>\n",
       "      <td>46</td>\n",
       "    </tr>\n",
       "  </tbody>\n",
       "</table>\n",
       "</div>"
      ],
      "text/plain": [
       "     Name description                                           geometry  \\\n",
       "0  AUSTIN        None  (POLYGON ((-97.69186838400699 30.248482149129,...   \n",
       "2  AUSTIN        None  (POLYGON ((-97.686347884619 30.332598550963, -...   \n",
       "3  AUSTIN        None  (POLYGON ((-97.73618056605601 30.159870363356,...   \n",
       "4   MANOR        None  (POLYGON ((-97.501494615524 30.477330039287, -...   \n",
       "5  AUSTIN        None  (POLYGON ((-97.84398150237401 30.393578155125,...   \n",
       "\n",
       "  number_of_records objectid zipcode zipcodes_id  \n",
       "0                45       51   78702          45  \n",
       "2                30       11   78752           5  \n",
       "3                25       32   78747          26  \n",
       "4                 2       29   78653          23  \n",
       "5                 2       52   78730          46  "
      ]
     },
     "execution_count": 79,
     "metadata": {},
     "output_type": "execute_result"
    }
   ],
   "source": [
    "newDF.head()\n"
   ]
  },
  {
   "cell_type": "code",
   "execution_count": 74,
   "metadata": {},
   "outputs": [],
   "source": [
    "newDF.to_file('../data/greaterAustinZipcodes.geojson', driver=\"GeoJSON\")"
   ]
  },
  {
   "cell_type": "code",
   "execution_count": null,
   "metadata": {},
   "outputs": [],
   "source": [
    "zipsToDrop = [78611, 78605, 78654, 78642, 76530, 76574, 78615, 78621, 78602, 78612, 78662, 78616, 78644, 78655, 78656, 78666, 78676, 78636, 78663, 78654]\n"
   ]
  }
 ],
 "metadata": {
  "kernelspec": {
   "display_name": "Python 3",
   "language": "python",
   "name": "python3"
  },
  "language_info": {
   "codemirror_mode": {
    "name": "ipython",
    "version": 3
   },
   "file_extension": ".py",
   "mimetype": "text/x-python",
   "name": "python",
   "nbconvert_exporter": "python",
   "pygments_lexer": "ipython3",
   "version": "3.6.6"
  }
 },
 "nbformat": 4,
 "nbformat_minor": 2
}
